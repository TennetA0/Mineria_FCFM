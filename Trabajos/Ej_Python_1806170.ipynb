{
 "cells": [
  {
   "cell_type": "markdown",
   "metadata": {},
   "source": [
    "Ejercicios Python\n",
    "# Ejercicio 1\n",
    "- Realiza una variable con tu matricula y realiza una secuencia de imprimir con tu nombre y tu matricula concatenados."
   ]
  },
  {
   "cell_type": "code",
   "execution_count": 26,
   "metadata": {},
   "outputs": [
    {
     "name": "stdout",
     "output_type": "stream",
     "text": [
      "Ingrese su primer nombre y primer apellido: Tennet Aguirre\n",
      "Ingrese su matricula: 1806170\n",
      "Tu nombre es TENNET AGUIRRE y tu matricula es 1806170\n"
     ]
    }
   ],
   "source": [
    "nom = input(\"Ingrese su primer nombre y primer apellido: \") #Pide dato nombre\n",
    "mat = int(input(\"Ingrese su matricula: \"))                  #Pide dato de la matricula\n",
    "r = \"Tu nombre es %s y tu matricula es %d\" %(nom.upper(),mat)\n",
    "print (r)"
   ]
  },
  {
   "cell_type": "markdown",
   "metadata": {},
   "source": [
    "# Ejercicio 2\n",
    "- Pidiendo el input del usuario pide dos numeros y crea una pequeña calculadora con los operadores basicos de suma, resta, multiplicacion, division y exponente."
   ]
  },
  {
   "cell_type": "code",
   "execution_count": 2,
   "metadata": {},
   "outputs": [
    {
     "name": "stdout",
     "output_type": "stream",
     "text": [
      "Ingrese su numero favotiro: 7\n",
      "ingrese el numero que menos le guste: 4\n",
      "Su numero favorito es 7 y el que menos le gusta es 4\n",
      "Su suma es: 11\n",
      "Su resta es: 3\n",
      "Su multiplicacion es: 28\n",
      "Su division es: 1.750\n",
      "El exponente es: 16807\n"
     ]
    }
   ],
   "source": [
    "a = int(input(\"Ingrese su numero favotiro: \"))\n",
    "b = int(input(\"ingrese el numero que menos le guste: \"))  #Hasta aqui pide dos numeros cualesquiera\n",
    "s = a+b\n",
    "re = a-b\n",
    "m = a*b\n",
    "d = a/b\n",
    "e = a**5 #Hasta aqui se hacen las operaciones basicas\n",
    "r2 =\"Su suma es: %d\" %(s);\n",
    "r3 =\"Su resta es: %d\" %(re);\n",
    "r4 =\"Su multiplicacion es: %d\" %(m);\n",
    "r5 =\"Su division es: %.3f\" %(d);\n",
    "r6 =\"El exponente es: %d\" %(e);\n",
    "r = \"Su numero favorito es %d y el que menos le gusta es %d\" %(a,b);\n",
    "\n",
    "print(r)\n",
    "print(r2)\n",
    "print(r3)\n",
    "print(r4)\n",
    "print(r5)\n",
    "print(r6)"
   ]
  },
  {
   "cell_type": "markdown",
   "metadata": {},
   "source": [
    "# Ejercicio 3\n",
    "- Con loop while o for, realiza una lista de 10 numeros multiplos 3, y despues realiza una funcion de loop que sume todos los numeros dentro del arreglo"
   ]
  },
  {
   "cell_type": "code",
   "execution_count": 3,
   "metadata": {},
   "outputs": [
    {
     "name": "stdout",
     "output_type": "stream",
     "text": [
      "3 * 1 = 3\n",
      "3 * 2 = 6\n",
      "3 * 3 = 9\n",
      "3 * 4 = 12\n",
      "3 * 5 = 15\n",
      "3 * 6 = 18\n",
      "3 * 7 = 21\n",
      "3 * 8 = 24\n",
      "3 * 9 = 27\n",
      "3 * 10 = 30\n",
      "La suma del arreglo es:  165\n"
     ]
    }
   ],
   "source": [
    "i= 1  #Ininciaremos el conteo en 1 por gusto pero puede ser otro numero\n",
    "b= 0  #Inicia en 0 para que la variable no tenga otro valor que no sea multiplo de 3\n",
    "while  i <=10:\n",
    "    a = i * 3\n",
    "    print(3, \"*\", i, \"=\", a)\n",
    "    i=i+1\n",
    "    b = a+b;\n",
    "print(\"La suma del arreglo es: \",b)"
   ]
  },
  {
   "cell_type": "markdown",
   "metadata": {},
   "source": [
    "# Ejercicio 4\n",
    "- Con una funcion de if else, revisa si un numero es par o es impar\n",
    "- Con una funcion de if else, revisa si un numero es primo o no"
   ]
  },
  {
   "cell_type": "code",
   "execution_count": 4,
   "metadata": {},
   "outputs": [
    {
     "name": "stdout",
     "output_type": "stream",
     "text": [
      "Intoduce un numero al azar: 12\n",
      "Introduce un segundo numero: 6\n",
      "El numero 18 es par y no es numero primo\n"
     ]
    }
   ],
   "source": [
    "a = int(input(\"Intoduce un numero al azar: \"))\n",
    "b = int(input(\"Introduce un segundo numero: \"))\n",
    "c = a + b   \n",
    "if c % 2 ==0 : #La operacion revisa el residuo de la division, el cual si es 0 significa que la variable es par\n",
    "    r = \"El numero %d es par y no es numero primo\" %(c)\n",
    "    print(r)\n",
    "else:\n",
    "    r = \"El numero %d es impar y es numero primo\" %(c)\n",
    "    print(r)"
   ]
  },
  {
   "cell_type": "markdown",
   "metadata": {},
   "source": [
    "# Ejercicio 5\n",
    "- Utilizando diferentes clases en python, crea una calculadora con los operadores basicos de suma, resta, multiplicación, división y exponente."
   ]
  },
  {
   "cell_type": "code",
   "execution_count": null,
   "metadata": {},
   "outputs": [],
   "source": []
  },
  {
   "cell_type": "markdown",
   "metadata": {},
   "source": [
    "# Ejercicios con estructuras basicas de python\n",
    "## Tuplas\n",
    "* Crear una variable flotante, integer, boleana y compleja e impremir el tipo de variable que es\n",
    "- Crear una tupla con valores enteros e impirmir el primer y el ultimo valor\n",
    "- Añadir 3 valores de string a la tupla\n",
    "- Verificar si una variable existe dentro de la tupla"
   ]
  },
  {
   "cell_type": "code",
   "execution_count": 5,
   "metadata": {},
   "outputs": [
    {
     "name": "stdout",
     "output_type": "stream",
     "text": [
      "7.1532 <class 'float'>\n",
      "3657 <class 'int'>\n",
      "(2+7j) <class 'complex'>\n",
      "True <class 'bool'>\n"
     ]
    }
   ],
   "source": [
    "#Pueden ser variable de cualquier tipo y el programa dira de cual es.\n",
    "a=7.1532 \n",
    "b=3657\n",
    "c=2+7j\n",
    "d = a<b\n",
    "print (a,type(a))\n",
    "print (b,type(b))\n",
    "print (c,type(c))\n",
    "print (d,type(d))"
   ]
  },
  {
   "cell_type": "code",
   "execution_count": 6,
   "metadata": {},
   "outputs": [
    {
     "name": "stdout",
     "output_type": "stream",
     "text": [
      "<class 'tuple'>\n",
      "Primero:  23\n",
      "Ultimo:   11769\n"
     ]
    }
   ],
   "source": [
    "tarea=23,54,67,323,756,8765,976,23,142,56687,5678,34,234,11769\n",
    "print (type(tarea))\n",
    "print (\"Primero: \",tarea[0]) #se inicia contando en 0\n",
    "print (\"Ultimo:  \",tarea[-1]) #-1, conatamos de atras hacia adelante"
   ]
  },
  {
   "cell_type": "code",
   "execution_count": 7,
   "metadata": {},
   "outputs": [
    {
     "name": "stdout",
     "output_type": "stream",
     "text": [
      "(23, 54, 67, 323, 756, 8765, 976, 23, 142, 56687, 5678, 34, 234, 11769, 23245, 324214, 0)\n"
     ]
    }
   ],
   "source": [
    "tarea = (23,54,67,323,756,8765,976,23,142,56687,5678,34,234,11769)\n",
    "tarea = tarea.__add__((23245, 324214, 0)) #Agregamos datos a la tupla sin alterar los existentes\n",
    "print (tarea)"
   ]
  },
  {
   "cell_type": "code",
   "execution_count": 8,
   "metadata": {},
   "outputs": [
    {
     "data": {
      "text/plain": [
       "True"
      ]
     },
     "execution_count": 8,
     "metadata": {},
     "output_type": "execute_result"
    }
   ],
   "source": [
    "tarea = (21,43,65,1345,7655,1235)\n",
    "43 in tarea #Queremos ver si existe el dato en la tupla"
   ]
  },
  {
   "cell_type": "markdown",
   "metadata": {},
   "source": [
    "## Listas\n",
    "- Crear una lista con 40 elementos aleatorios enteros\n",
    "- Con una funcion (def) crear dos listas nuevas a partir de la lista creada por numeros aleatorios, en la cual en una esten los elementos pares y en la otra los impares\n",
    "- Crear dos variables con la longitud de ambas listas nuevas e imprimir las variables\n",
    "- Ordenar los elementos de la lista par de mayor a menor, y los de la lista impar de menor a mayor\n",
    "- Utilizar al menos cuatro de las funciones de listas en python en la lista original de 40 elementos"
   ]
  },
  {
   "cell_type": "code",
   "execution_count": 9,
   "metadata": {},
   "outputs": [
    {
     "name": "stdout",
     "output_type": "stream",
     "text": [
      "Cantidad de elementos: \n",
      "40\n",
      "[470, 1121, 665, 695, 75, 112, 1079, 373, 21, 1188, 1041, 1111, 324, 381, 943, 761, 1213, 668, 987, 1078, 82, 23, 1192, 915, 401, 327, 213, 758, 823, 1000, 612, 817, 396, 753, 14, 637, 980, 584, 49, 1147]\n"
     ]
    }
   ],
   "source": [
    "import random\n",
    "print(\"Cantidad de elementos: \") #Cantidad de elementos a buscar\n",
    "n=int(input())\n",
    "aleatorios=[random.randint(1,1234) for _ in range(n)]\n",
    "print(aleatorios)"
   ]
  },
  {
   "cell_type": "code",
   "execution_count": 10,
   "metadata": {},
   "outputs": [
    {
     "name": "stdout",
     "output_type": "stream",
     "text": [
      "------lista con elementos pares------------\n",
      "[470, 112, 1188, 324, 668, 1078, 82, 1192, 758, 1000, 612, 396, 14, 980, 584]\n",
      "------lista con los elementos impares------\n",
      "[1121, 665, 695, 75, 1079, 373, 21, 1041, 1111, 381, 943, 761, 1213, 987, 23, 915, 401, 327, 213, 823, 817, 753, 637, 49, 1147]\n"
     ]
    }
   ],
   "source": [
    "lista=[470, 1121, 665, 695, 75, 112, 1079, 373, 21, 1188, 1041, 1111, 324, 381, 943, 761, 1213, 668, 987, 1078, 82, 23,\n",
    "       1192, 915, 401, 327, 213, 758, 823, 1000, 612, 817, 396, 753, 14, 637, 980, 584, 49, 1147]\n",
    "pares=[] #lista vacia\n",
    "impares=[] #lista vacia\n",
    "for i in range(len(lista)): #se revisa los 100 datos\n",
    "    if lista[i]% 2 ==0: #residuo de la division es 0, es par\n",
    "        par=lista[i] #el valor ahora lo tiene la variable par\n",
    "        pares.append(par) #se agrega a la lista vacia\n",
    "    else:\n",
    "            nopar = lista[i] #El valor ahora lo tiene la variable impar\n",
    "            impares.append(nopar) #se agrega a la lista vacia\n",
    "print(\"------lista con elementos pares------------\")\n",
    "print(pares)\n",
    "print(\"------lista con los elementos impares------\")\n",
    "print(impares)"
   ]
  },
  {
   "cell_type": "code",
   "execution_count": 25,
   "metadata": {},
   "outputs": [
    {
     "name": "stdout",
     "output_type": "stream",
     "text": [
      "longitud de par:  15\n",
      "Longitud de impar:  25\n"
     ]
    }
   ],
   "source": [
    "par=[470, 112, 1188, 324, 668, 1078, 82, 1192, 758, 1000, 612, 396, 14, 980, 584]\n",
    "impar=[1121, 665, 695, 75, 1079, 373, 21, 1041, 1111, 381, 943, 761, 1213, 987,\n",
    "       23, 915, 401, 327, 213, 823, 817, 753, 637, 49, 1147]\n",
    "a=len(par)\n",
    "b=len(impar)\n",
    "print(\"longitud de par: \",a)\n",
    "print(\"Longitud de impar: \",b)"
   ]
  },
  {
   "cell_type": "code",
   "execution_count": 70,
   "metadata": {},
   "outputs": [
    {
     "name": "stdout",
     "output_type": "stream",
     "text": [
      "------------lista par------------\n",
      "[470, 112, 1188, 324, 668, 1078, 82, 1192, 758, 1000, 612, 396, 14, 980, 584]\n",
      "\n",
      "----par de mayor a menor---------\n",
      "[1192, 1188, 1078, 1000, 980, 758, 668, 612, 584, 470, 396, 324, 112, 82, 14]\n",
      "\n",
      "------------lista impar----------\n",
      "[1121, 665, 695, 75, 1079, 373, 21, 1041, 1111, 381, 943, 761, 1213, 987, 23, 915, 401, 327, 213, 823, 817, 753, 637, 49, 1147]\n",
      "\n",
      "----impar de menor a mayor--------\n",
      "[21, 23, 49, 75, 213, 327, 373, 381, 401, 637, 665, 695, 753, 761, 817, 823, 915, 943, 987, 1041, 1079, 1111, 1121, 1147, 1213]\n"
     ]
    }
   ],
   "source": [
    "par=[470, 112, 1188, 324, 668, 1078, 82, 1192, 758, 1000, 612, 396, 14, 980, 584]\n",
    "impar=[1121, 665, 695, 75, 1079, 373, 21, 1041, 1111, 381, 943, 761, 1213, 987,\n",
    "       23, 915, 401, 327, 213, 823, 817, 753, 637, 49, 1147]\n",
    "print(\"------------lista par------------\")\n",
    "print(par)\n",
    "print(\"\")\n",
    "print(\"----par de mayor a menor---------\")\n",
    "par.sort()\n",
    "par.reverse()\n",
    "print(par)\n",
    "print(\"\")\n",
    "print(\"------------lista impar----------\")\n",
    "print(impar)\n",
    "print(\"\")\n",
    "print(\"----impar de menor a mayor--------\")\n",
    "impar.sort()\n",
    "print(impar)"
   ]
  },
  {
   "cell_type": "code",
   "execution_count": 30,
   "metadata": {},
   "outputs": [
    {
     "name": "stdout",
     "output_type": "stream",
     "text": [
      "-------------Lista original---------------------\n",
      "[470, 1121, 665, 695, 75, 112, 1079, 373, 21, 1188, 1041, 1111, 324, 381, 943, 761, 1213, 668, 987, 1078, 82, 23, 1192, 915, 401, 327, 213, 758, 823, 1000, 612, 817, 396, 753, 14, 637, 980, 584, 49, 1147]\n",
      "\n",
      "-------------Lista al reves---------------------\n",
      "[1147, 49, 584, 980, 637, 14, 753, 396, 817, 612, 1000, 823, 758, 213, 327, 401, 915, 1192, 23, 82, 1078, 987, 668, 1213, 761, 943, 381, 324, 1111, 1041, 1188, 21, 373, 1079, 112, 75, 695, 665, 1121, 470]\n",
      "\n",
      "-------------Lista con dos datos mas------------\n",
      "['Hola', 'mestra', 584, 980, 637, 14, 753, 396, 817, 612, 1000, 823, 758, 213, 327, 401, 915, 1192, 23, 82, 1078, 987, 668, 1213, 761, 943, 381, 324, 1111, 1041, 1188, 21, 373, 1079, 112, 75, 695, 665, 1121, 470]\n",
      "\n",
      "-------------Lista sin el ultimo dato------------\n",
      "['Hola', 'mestra', 584, 980, 637, 14, 753, 396, 817, 612, 1000, 823, 758, 213, 327, 401, 915, 1192, 23, 82, 1078, 987, 668, 1213, 761, 943, 381, 324, 1111, 1041, 1188, 21, 373, 1079, 112, 75, 695, 665, 1121]\n",
      "\n",
      "-------------Lista sin datos---------------------\n",
      "[]\n",
      "\n"
     ]
    }
   ],
   "source": [
    "lista=[470, 1121, 665, 695, 75, 112, 1079, 373, 21, 1188, 1041, 1111, \n",
    "       324, 381, 943, 761, 1213, 668, 987, 1078, 82, 23, 1192, 915, 401,\n",
    "       327, 213, 758, 823, 1000, 612, 817, 396, 753, 14, 637, 980, 584,\n",
    "       49, 1147]\n",
    "print(\"-------------Lista original---------------------\")\n",
    "print(lista)\n",
    "print(\"\")\n",
    "print(\"-------------Lista al reves---------------------\")\n",
    "lista.reverse() #La lista con los datos de -1 hasta 0\n",
    "print(lista)\n",
    "print(\"\")\n",
    "print(\"-------------Lista con dos datos mas------------\")\n",
    "lista[0] = \"Hola\" #Dato nuevo en la posicion 0 sin alterar el resto\n",
    "lista[1] = \"mestra\" #Dato nuevo en la posicion 1 sin alterar el resto\n",
    "print(lista)\n",
    "print(\"\")\n",
    "print(\"-------------Lista sin el ultimo dato------------\")\n",
    "lista.pop() #Se elimina el ultimo dato\n",
    "print(lista)\n",
    "print(\"\")\n",
    "print(\"-------------Lista sin datos---------------------\")\n",
    "lista.clear() #Lista vacia\n",
    "print(lista)\n",
    "print(\"\")"
   ]
  },
  {
   "cell_type": "markdown",
   "metadata": {},
   "source": [
    "## Diccionarios\n",
    "- Crear un diccionario de 6 personas que conozcas con su primer nombre y su edad.\n",
    "- Crear una lista con los valores de la edad y reacomodar la lista de menor a mayor valor.\n",
    "- Usando el diccionario y un loop, imprimir solo los nombres.\n",
    "- Añadir dos personas nuevas a tu diccionario, incluyendo edad."
   ]
  },
  {
   "cell_type": "code",
   "execution_count": 31,
   "metadata": {},
   "outputs": [
    {
     "name": "stdout",
     "output_type": "stream",
     "text": [
      "Primer nombre: Nahomi\n",
      "Edad: 21\n",
      "Primer nombre: Armando\n",
      "Edad: 21\n",
      "Primer nombre: Emmanuel\n",
      "Edad: 24\n",
      "Primer nombre: Emanuel\n",
      "Edad: 20\n",
      "Primer nombre: Ivan\n",
      "Edad: 21\n",
      "Primer nombre: Isaac\n",
      "Edad: 17\n",
      "['Nahomi', 21, 'Armando', 21, 'Emmanuel', 24, 'Emanuel', 20, 'Ivan', 21, 'Isaac', 17]\n"
     ]
    }
   ],
   "source": [
    "D=[] #Declaramos un diccionario vacio\n",
    "for i in range(6): #Se preguntaran los datos 6 veces\n",
    "    v=input(\"Primer nombre: \")\n",
    "    e=int(input(\"Edad: \"))\n",
    "    D.append(v) \n",
    "    D.append(e)\n",
    "print(D)"
   ]
  },
  {
   "cell_type": "code",
   "execution_count": 64,
   "metadata": {},
   "outputs": [
    {
     "name": "stdout",
     "output_type": "stream",
     "text": [
      "[21, 21, 24, 20, 21, 17]\n",
      "---------Lista ordenada---------\n",
      "[17, 20, 21, 21, 21, 24]\n"
     ]
    }
   ],
   "source": [
    "lista=['Nahomi', 21, 'Armando', 21, 'Emmanuel', 24, 'Emanuel', 20, 'Ivan', 21, 'Isaac', 17,0]\n",
    "ledad=lista[1:-1:2] #Seleccionamos solo ciertos datos (edades)\n",
    "print(ledad) #solo las edades\n",
    "ledad.sort()#edades de menor a mayor\n",
    "print(\"---------Lista ordenada---------\")\n",
    "print(ledad)"
   ]
  },
  {
   "cell_type": "code",
   "execution_count": 62,
   "metadata": {},
   "outputs": [
    {
     "name": "stdout",
     "output_type": "stream",
     "text": [
      "['Nahomi', 'Armando', 'Emmanuel', 'Emanuel', 'Ivan', 'Isaac']\n"
     ]
    }
   ],
   "source": [
    "lista=['Nahomi', 21, 'Armando', 21, 'Emmanuel', 24, 'Emanuel', 20, 'Ivan', 21, 'Isaac', 17]\n",
    "nom=[] #diccionario vaio\n",
    "i=0\n",
    "while i<12:\n",
    "    nom.append(lista[i]) #seleccion de datos\n",
    "    i=i+2 #+2 para saltar dos espacios\n",
    "print(nom)"
   ]
  },
  {
   "cell_type": "code",
   "execution_count": 63,
   "metadata": {},
   "outputs": [
    {
     "name": "stdout",
     "output_type": "stream",
     "text": [
      "Primer nombre: Edgar\n",
      "Edad: 18\n",
      "Primer nombre: Sofia\n",
      "Edad: 19\n",
      "------Datos nuevos--------\n",
      "['Edgar', 18, 'Sofia', 19]\n",
      "---Diccionario fianl------\n",
      "['Nahomi', 21, 'Armando', 21, 'Emmanuel', 24, 'Emanuel', 20, 'Ivan', 21, 'Isaac', 17, 'Edgar', 18, 'Sofia', 19]\n"
     ]
    }
   ],
   "source": [
    "lista=['Nahomi', 21, 'Armando', 21, 'Emmanuel', 24, 'Emanuel', 20, 'Ivan', 21, 'Isaac', 17]\n",
    "nueva=[] #diccionario vacio \n",
    "for i in range(2): #ingresamos dos datos nuevos\n",
    "    v=input(\"Primer nombre: \")\n",
    "    e=int(input(\"Edad: \"))\n",
    "    nueva.append(v)\n",
    "    nueva.append(e)\n",
    "print(\"------Datos nuevos--------\")\n",
    "print(nueva) #diccionario de los datos nuevos\n",
    "final=lista+nueva\n",
    "print(\"---Diccionario fianl------\")\n",
    "print(final) #Anterior diccionario junto con el nuevo"
   ]
  },
  {
   "cell_type": "markdown",
   "metadata": {},
   "source": [
    "## Sets\n",
    "- Crea un set con 100 numeros aleatorios enteros del 1 al 25.\n",
    "- Comprueba la longitud de tu set.\n",
    "- Crea una lista de 5 numeros aleatorios del 1 al 10 y comprueba si cada valor aparece en el set inicial."
   ]
  },
  {
   "cell_type": "code",
   "execution_count": 65,
   "metadata": {},
   "outputs": [
    {
     "name": "stdout",
     "output_type": "stream",
     "text": [
      "Cantidad de elementos: \n",
      "100\n",
      "[22, 25, 2, 19, 1, 4, 19, 23, 24, 16, 15, 3, 2, 19, 6, 19, 2, 24, 25, 11, 14, 14, 23, 9, 13, 6, 20, 6, 24, 7, 8, 3, 16, 2, 8, 15, 15, 12, 19, 16, 15, 12, 23, 18, 8, 2, 19, 11, 23, 21, 2, 8, 8, 16, 11, 17, 3, 1, 25, 5, 23, 17, 19, 17, 20, 4, 12, 5, 2, 7, 20, 7, 7, 6, 10, 6, 17, 15, 14, 10, 21, 3, 21, 23, 6, 7, 4, 21, 7, 4, 9, 17, 16, 22, 1, 10, 5, 24, 19, 16]\n"
     ]
    }
   ],
   "source": [
    "import random #100 datos aleatorios entre el 1 y 25\n",
    "print(\"Cantidad de elementos: \") #Cantidad de datos aleatorios\n",
    "n=int(input())\n",
    "aleatorios=[random.randint(1,25) for _ in range(n)]\n",
    "print(aleatorios)"
   ]
  },
  {
   "cell_type": "code",
   "execution_count": 68,
   "metadata": {},
   "outputs": [
    {
     "name": "stdout",
     "output_type": "stream",
     "text": [
      "longitud:  100\n",
      "Salio bien <3\n"
     ]
    }
   ],
   "source": [
    "sett=[22, 25, 2, 19, 1, 4, 19, 23, 24, 16, 15, 3, 2, 19, 6, 19, 2, 24, 25,\n",
    "      11, 14, 14, 23, 9, 13, 6, 20, 6, 24, 7, 8, 3, 16, 2, 8, 15, 15, 12,\n",
    "      19, 16, 15, 12, 23, 18, 8, 2, 19, 11, 23, 21, 2, 8, 8, 16, 11, 17, 3,\n",
    "      1, 25, 5, 23, 17, 19, 17, 20, 4, 12, 5, 2, 7, 20, 7, 7, 6, 10, 6, 17,\n",
    "      15, 14, 10, 21, 3, 21, 23, 6, 7, 4, 21, 7, 4, 9, 17, 16, 22, 1, 10, 5,\n",
    "      24, 19, 16]\n",
    "len(sett) #cantidad de datos dentro del set\n",
    "print(\"longitud: \",len(sett))\n",
    "if len(sett)<100:\n",
    "    print(\"No salio bien :(\") #cantidad no correcta\n",
    "else:\n",
    "    print(\"Salio bien <3\") #cantidad correcta"
   ]
  },
  {
   "cell_type": "code",
   "execution_count": 74,
   "metadata": {},
   "outputs": [
    {
     "name": "stdout",
     "output_type": "stream",
     "text": [
      "Cantidad de elementos: \n",
      "5\n",
      "[5, 8, 10, 4, 4]\n",
      "-------existen---------\n",
      "los valores existen en el set inicial\n"
     ]
    }
   ],
   "source": [
    "sett=[22, 25, 2, 19, 1, 4, 19, 23, 24, 16, 15, 3, 2, 19, 6, 19, 2, 24, 25,\n",
    "      11, 14, 14, 23, 9, 13, 6, 20, 6, 24, 7, 8, 3, 16, 2, 8, 15, 15, 12,\n",
    "      19, 16, 15, 12, 23, 18, 8, 2, 19, 11, 23, 21, 2, 8, 8, 16, 11, 17, 3,\n",
    "      1, 25, 5, 23, 17, 19, 17, 20, 4, 12, 5, 2, 7, 20, 7, 7, 6, 10, 6, 17,\n",
    "      15, 14, 10, 21, 3, 21, 23, 6, 7, 4, 21, 7, 4, 9, 17, 16, 22, 1, 10, 5,\n",
    "      24, 19, 16]\n",
    "import random\n",
    "print(\"Cantidad de elementos: \") #Cantidad de elementos a buscar\n",
    "n=int(input())\n",
    "aleatorios=[random.randint(1,10) for _ in range(n)]\n",
    "print(aleatorios)\n",
    "print(\"-------existen---------\")\n",
    "def estaEnArray(sett, aleatorios):\n",
    "    for i in aleatorios:\n",
    "        if not i in aleatorios:\n",
    "            return 0\n",
    "    return 1\n",
    "if (estaEnArray(sett, aleatorios)):\n",
    "    print(\"los valores existen en el set inicial\")\n",
    "else:\n",
    "    print(\"los valores no existen en el set inicial\")"
   ]
  }
 ],
 "metadata": {
  "kernelspec": {
   "display_name": "Python 3",
   "language": "python",
   "name": "python3"
  },
  "language_info": {
   "codemirror_mode": {
    "name": "ipython",
    "version": 3
   },
   "file_extension": ".py",
   "mimetype": "text/x-python",
   "name": "python",
   "nbconvert_exporter": "python",
   "pygments_lexer": "ipython3",
   "version": "3.8.5"
  }
 },
 "nbformat": 4,
 "nbformat_minor": 4
}
